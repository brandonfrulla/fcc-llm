{
 "cells": [
  {
   "cell_type": "code",
   "execution_count": 32,
   "id": "a56cb215",
   "metadata": {},
   "outputs": [
    {
     "name": "stdout",
     "output_type": "stream",
     "text": [
      "cuda\n"
     ]
    }
   ],
   "source": [
    "import torch\n",
    "import numpy as np\n",
    "import time\n",
    "device = 'cuda' if torch.cuda.is_available else 'cpu'\n",
    "print(device)\n"
   ]
  },
  {
   "cell_type": "code",
   "execution_count": 33,
   "id": "f4371031",
   "metadata": {},
   "outputs": [
    {
     "name": "stdout",
     "output_type": "stream",
     "text": [
      "0.0011410713\n"
     ]
    }
   ],
   "source": [
    "start_time = time.time()\n",
    "\n",
    "zeros = torch.zeros(1000, 1000)\n",
    "end_time = time.time()\n",
    "\n",
    "elpsd = retTime(start_time, end_time)\n",
    "print(f\"{elpsd:.10f}\")\n",
    "#was 0.0015609264 with cpu\n",
    "#was 0.0011808872 with cuda"
   ]
  },
  {
   "cell_type": "code",
   "execution_count": 40,
   "id": "1490dd2f",
   "metadata": {},
   "outputs": [
    {
     "name": "stdout",
     "output_type": "stream",
     "text": [
      "0.0050690174\n",
      "0.0013108253\n"
     ]
    }
   ],
   "source": [
    "torch_rand1 = torch.rand(1000,1000) #.to(device) caused errors\n",
    "torch_rand2 = torch.rand(1000,1000) #.to(device) caused errors\n",
    "np_rand1 = torch.rand(1000,1000)\n",
    "np_rand2 = torch.rand(1000,1000)\n",
    "\n",
    "start_time = time.time()\n",
    "\n",
    "rand = (torch_rand1 @ torch_rand2)\n",
    "\n",
    "end_time = time.time()\n",
    "print(f\"{retTime(start_time, end_time):.10f}\")\n",
    "\n",
    "start_time = time.time()\n",
    "\n",
    "rand = np.multiply(np_rand1, np_rand2)\n",
    "end_time = time.time()\n",
    "print(f\"{retTime(start_time, end_time):.10f}\")"
   ]
  },
  {
   "cell_type": "code",
   "execution_count": 38,
   "id": "f9626c59",
   "metadata": {},
   "outputs": [],
   "source": [
    "def retTime(start_time, end_time):\n",
    "    elapsed = end_time - start_time\n",
    "    return elapsed"
   ]
  },
  {
   "cell_type": "code",
   "execution_count": null,
   "id": "e399a2de",
   "metadata": {},
   "outputs": [],
   "source": []
  }
 ],
 "metadata": {
  "kernelspec": {
   "display_name": "cudaPT",
   "language": "python",
   "name": "cuda"
  },
  "language_info": {
   "codemirror_mode": {
    "name": "ipython",
    "version": 3
   },
   "file_extension": ".py",
   "mimetype": "text/x-python",
   "name": "python",
   "nbconvert_exporter": "python",
   "pygments_lexer": "ipython3",
   "version": "3.11.4"
  }
 },
 "nbformat": 4,
 "nbformat_minor": 5
}
