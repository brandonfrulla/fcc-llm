{
 "cells": [
  {
   "cell_type": "code",
   "execution_count": 5,
   "metadata": {},
   "outputs": [
    {
     "name": "stdout",
     "output_type": "stream",
     "text": [
      "Using device:  cuda\n",
      "Block size:  8 \n",
      "Batch size:  4\n"
     ]
    }
   ],
   "source": [
    "import torch\n",
    "device = 'cuda' if torch.cuda.is_available else 'cpu'\n",
    "print('Using device: ', device)\n",
    "\n",
    "block_size = 8\n",
    "batch_size = 4 \n",
    "print('Block size: ', block_size, '\\nBatch size: ', batch_size)"
   ]
  },
  {
   "cell_type": "code",
   "execution_count": 2,
   "metadata": {},
   "outputs": [],
   "source": [
    "with open(\"crime_and_punishment.txt\", 'r', encoding='utf-8') as f:\n",
    "    text = f.read()\n",
    "chars = sorted(set(text))\n",
    "vocab_len = len(chars)"
   ]
  },
  {
   "cell_type": "code",
   "execution_count": 3,
   "metadata": {},
   "outputs": [
    {
     "name": "stdout",
     "output_type": "stream",
     "text": [
      "tensor([23, 38, 29, 33, 25,  1, 21, 34, 24,  1, 36, 41, 34, 29, 39, 28, 33, 25,\n",
      "        34, 40,  0,  0, 22, 74,  1, 26, 74, 64, 53, 64, 67,  1, 24, 64, 68, 69,\n",
      "        64, 54, 71, 68, 60, 74,  0,  0,  0,  0, 40, 67, 50, 63, 68, 61, 50, 69,\n",
      "        54, 53,  1, 22, 74,  1, 23, 64, 63, 68, 69, 50, 63, 52, 54,  1, 27, 50,\n",
      "        67, 63, 54, 69, 69,  0,  0,  0,  0,  0, 40, 38, 21, 34, 39, 32, 21, 40,\n",
      "        35, 38, 89, 39,  1, 36, 38, 25, 26, 21])\n"
     ]
    }
   ],
   "source": [
    "str_to_int = {ch:i for i, ch in enumerate(chars)}\n",
    "int_to_str = {i:ch for i, ch in enumerate(chars)}\n",
    "\n",
    "encode = lambda s: [str_to_int[c] for c in s]\n",
    "decode = lambda l: ''.join([int_to_str[i] for i in l])\n",
    "\n",
    "encoded_hello = encode('hello')\n",
    "decoded_hello = decode(encoded_hello)\n",
    "\n",
    "#print(encoded_hello, \"==\", decoded_hello)\n",
    "\n",
    "data = torch.tensor(encode(text), dtype=torch.long)\n",
    "\n",
    "print(data[:100])"
   ]
  },
  {
   "cell_type": "code",
   "execution_count": 4,
   "metadata": {},
   "outputs": [],
   "source": [
    "n = int(0.8 * len(data))\n",
    "t_data = data[:n]\n",
    "v_data = data[n:]"
   ]
  },
  {
   "cell_type": "code",
   "execution_count": 20,
   "metadata": {},
   "outputs": [
    {
     "name": "stdout",
     "output_type": "stream",
     "text": [
      "x: tensor([23, 38, 29, 33, 25,  1, 21, 34]) \n",
      "y: tensor([72, 64, 64, 53,  6,  1, 51, 70]) \n",
      "\n",
      "when input is tensor([23]) target is tensor(72)\n",
      "when input is tensor([23, 38]) target is tensor(64)\n",
      "when input is tensor([23, 38, 29]) target is tensor(64)\n",
      "when input is tensor([23, 38, 29, 33]) target is tensor(53)\n",
      "when input is tensor([23, 38, 29, 33, 25]) target is tensor(6)\n",
      "when input is tensor([23, 38, 29, 33, 25,  1]) target is tensor(1)\n",
      "when input is tensor([23, 38, 29, 33, 25,  1, 21]) target is tensor(51)\n",
      "when input is tensor([23, 38, 29, 33, 25,  1, 21, 34]) target is tensor(70)\n"
     ]
    }
   ],
   "source": [
    "x = t_data[:block_size]\n",
    "y = v_data[1 : block_size + 1]\n",
    "\n",
    "print('x:', x, '\\ny:',y,'\\n')\n",
    "\n",
    "for t in range(block_size):\n",
    "    context = x[:t+1]\n",
    "    target = y[t]\n",
    "    print('when input is', context, 'target is', target)"
   ]
  },
  {
   "cell_type": "code",
   "execution_count": null,
   "metadata": {},
   "outputs": [],
   "source": []
  }
 ],
 "metadata": {
  "kernelspec": {
   "display_name": "cudaPT",
   "language": "python",
   "name": "cuda"
  },
  "language_info": {
   "codemirror_mode": {
    "name": "ipython",
    "version": 3
   },
   "file_extension": ".py",
   "mimetype": "text/x-python",
   "name": "python",
   "nbconvert_exporter": "python",
   "pygments_lexer": "ipython3",
   "version": "3.11.4"
  }
 },
 "nbformat": 4,
 "nbformat_minor": 2
}
