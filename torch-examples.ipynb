{
 "cells": [
  {
   "cell_type": "code",
   "execution_count": 2,
   "id": "897fb61d",
   "metadata": {},
   "outputs": [],
   "source": [
    "import torch"
   ]
  },
  {
   "cell_type": "code",
   "execution_count": 9,
   "id": "b44c463e",
   "metadata": {},
   "outputs": [
    {
     "name": "stdout",
     "output_type": "stream",
     "text": [
      "1: tensor([-33,  63, -79,  20,  30,  76])\n",
      "2: tensor([[9, 0, 0, 0, 8],\n",
      "        [8, 6, 0, 1, 9],\n",
      "        [3, 8, 9, 6, 4],\n",
      "        [2, 8, 4, 5, 0],\n",
      "        [8, 8, 7, 7, 3]])\n",
      "3: tensor([[5, 4, 4, 3],\n",
      "        [3, 7, 6, 7]])\n"
     ]
    }
   ],
   "source": [
    "randint1 = torch.randint(-100,100,(6,))\n",
    "randint2 = torch.randint(10,(5,5))\n",
    "randint3 = torch.randint(3,8,(2,4))\n",
    "print('1:', randint)\n",
    "print('2:', randint2)\n",
    "print('3:', randint3)"
   ]
  },
  {
   "cell_type": "code",
   "execution_count": 11,
   "id": "eebb6379",
   "metadata": {},
   "outputs": [
    {
     "data": {
      "text/plain": [
       "tensor([[0.1000, 1.2000],\n",
       "        [2.2000, 3.1000],\n",
       "        [4.9000, 5.2000]])"
      ]
     },
     "execution_count": 11,
     "metadata": {},
     "output_type": "execute_result"
    }
   ],
   "source": [
    "tensor = torch.tensor([[0.1, 1.2], [2.2, 3.1], [4.9, 5.2]])\n",
    "tensor"
   ]
  },
  {
   "cell_type": "code",
   "execution_count": 12,
   "id": "7ca4f89c",
   "metadata": {},
   "outputs": [
    {
     "data": {
      "text/plain": [
       "tensor([[0., 0., 0.],\n",
       "        [0., 0., 0.]])"
      ]
     },
     "execution_count": 12,
     "metadata": {},
     "output_type": "execute_result"
    }
   ],
   "source": [
    "zeros = torch.zeros(2,3)\n",
    "zeros"
   ]
  },
  {
   "cell_type": "code",
   "execution_count": 13,
   "id": "8fd522e3",
   "metadata": {},
   "outputs": [
    {
     "data": {
      "text/plain": [
       "tensor([[1., 1., 1., 1.],\n",
       "        [1., 1., 1., 1.],\n",
       "        [1., 1., 1., 1.]])"
      ]
     },
     "execution_count": 13,
     "metadata": {},
     "output_type": "execute_result"
    }
   ],
   "source": [
    "ones = torch.ones(3,4)\n",
    "ones"
   ]
  },
  {
   "cell_type": "code",
   "execution_count": 31,
   "id": "0815d4e1",
   "metadata": {},
   "outputs": [
    {
     "data": {
      "text/plain": [
       "tensor([[0, 0, 0],\n",
       "        [0, 0, 0]])"
      ]
     },
     "execution_count": 31,
     "metadata": {},
     "output_type": "execute_result"
    }
   ],
   "source": [
    "torch.empty((2,3), dtype=torch.int64)\n",
    "\n",
    "#this differs from the tutorial output, for him it was a 2x3\n",
    "#array of very large decimal numbers, ex: [0,0]=> 1.6689e+22\n",
    "#for my own posterity, all of the numbers looked like that"
   ]
  },
  {
   "cell_type": "code",
   "execution_count": null,
   "id": "dc8212db",
   "metadata": {},
   "outputs": [],
   "source": []
  },
  {
   "cell_type": "code",
   "execution_count": null,
   "id": "a70b360b",
   "metadata": {},
   "outputs": [],
   "source": []
  }
 ],
 "metadata": {
  "kernelspec": {
   "display_name": "cudaPT",
   "language": "python",
   "name": "cuda"
  },
  "language_info": {
   "codemirror_mode": {
    "name": "ipython",
    "version": 3
   },
   "file_extension": ".py",
   "mimetype": "text/x-python",
   "name": "python",
   "nbconvert_exporter": "python",
   "pygments_lexer": "ipython3",
   "version": "3.11.4"
  }
 },
 "nbformat": 4,
 "nbformat_minor": 5
}
